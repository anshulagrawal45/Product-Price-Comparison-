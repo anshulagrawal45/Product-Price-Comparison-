{
 "cells": [
  {
   "cell_type": "markdown",
   "id": "ea7ed7c0",
   "metadata": {},
   "source": [
    "# Product Price Comparision\n",
    "\n",
    "In this Project we will try to solve the problems people face while doing Online Shopping on E-Commerce Website, that they are not able to find from Which website he should buy the product, Where he will get the Best Price of the Product, Where he will get the product with best Features?\n",
    "\n",
    "We will try to find the __Best Option__ for him"
   ]
  },
  {
   "cell_type": "markdown",
   "id": "03c045b6",
   "metadata": {},
   "source": [
    "#### Enter the Name of the product you want to buy"
   ]
  },
  {
   "cell_type": "code",
   "execution_count": 1,
   "id": "051e0977",
   "metadata": {},
   "outputs": [],
   "source": [
    "product_name = \"POCO C3\""
   ]
  },
  {
   "cell_type": "code",
   "execution_count": null,
   "id": "d594db0c",
   "metadata": {},
   "outputs": [],
   "source": []
  }
 ],
 "metadata": {
  "kernelspec": {
   "display_name": "Python 3 (ipykernel)",
   "language": "python",
   "name": "python3"
  },
  "language_info": {
   "codemirror_mode": {
    "name": "ipython",
    "version": 3
   },
   "file_extension": ".py",
   "mimetype": "text/x-python",
   "name": "python",
   "nbconvert_exporter": "python",
   "pygments_lexer": "ipython3",
   "version": "3.9.13"
  }
 },
 "nbformat": 4,
 "nbformat_minor": 5
}
